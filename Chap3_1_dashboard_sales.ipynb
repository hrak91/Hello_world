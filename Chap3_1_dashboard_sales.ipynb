{
 "cells": [
  {
   "cell_type": "markdown",
   "metadata": {},
   "source": [
    "### 라이브러리 호출"
   ]
  },
  {
   "cell_type": "code",
   "execution_count": 1,
   "metadata": {},
   "outputs": [
    {
     "name": "stderr",
     "output_type": "stream",
     "text": [
      "c:\\users\\user\\appdata\\local\\programs\\python\\python37\\lib\\site-packages\\ipykernel_launcher.py:6: UserWarning: \n",
      "The dash_core_components package is deprecated. Please replace\n",
      "`import dash_core_components as dcc` with `from dash import dcc`\n",
      "  \n",
      "c:\\users\\user\\appdata\\local\\programs\\python\\python37\\lib\\site-packages\\ipykernel_launcher.py:7: UserWarning: \n",
      "The dash_html_components package is deprecated. Please replace\n",
      "`import dash_html_components as html` with `from dash import html`\n",
      "  import sys\n"
     ]
    }
   ],
   "source": [
    "import pandas as pd\n",
    "import numpy as np\n",
    "\n",
    "# Dash packages\n",
    "import dash\n",
    "import dash_core_components as dcc\n",
    "import dash_html_components as html\n",
    "from dash.dependencies import Input, Output, State\n",
    "import plotly.graph_objects as go\n",
    "\n",
    "from plotly.colors import DEFAULT_PLOTLY_COLORS   # chart default colors"
   ]
  },
  {
   "cell_type": "markdown",
   "metadata": {},
   "source": [
    "### 데이터 호출"
   ]
  },
  {
   "cell_type": "code",
   "execution_count": 2,
   "metadata": {},
   "outputs": [],
   "source": [
    "# Local 기준 - 상위 폴더로 이동 후 data 폴더로 이동\n",
    "path = '../../data/'"
   ]
  },
  {
   "cell_type": "code",
   "execution_count": 3,
   "metadata": {},
   "outputs": [],
   "source": [
    "# 데이터 호출\n",
    "df = pd.read_csv(path + 'Sales data/Data.csv')\n",
    "\n",
    "# 이익(Margin) 생성\n",
    "df['Margin'] = df['Revenue'] - df['Cost']"
   ]
  },
  {
   "cell_type": "code",
   "execution_count": 4,
   "metadata": {},
   "outputs": [],
   "source": [
    "# 연도, 월 변수 생성\n",
    "df['year'] = df['OrderDate'].str.slice(start = 0, stop = 4)\n",
    "df['month'] = df['OrderDate'].str.slice(start = 5, stop = 7)\n",
    "# 데이터 정렬\n",
    "df = df.sort_values(by = ['Region','Channel','Category','Item Type','year','month','Gender'])"
   ]
  },
  {
   "cell_type": "markdown",
   "metadata": {},
   "source": [
    "### 연도 필터"
   ]
  },
  {
   "cell_type": "code",
   "execution_count": 5,
   "metadata": {},
   "outputs": [],
   "source": [
    "years = list(df['year'].unique())\n",
    "years.sort()"
   ]
  },
  {
   "cell_type": "markdown",
   "metadata": {},
   "source": [
    "### App & Layout"
   ]
  },
  {
   "cell_type": "code",
   "execution_count": 6,
   "metadata": {},
   "outputs": [],
   "source": [
    "# App structure\n",
    "app = dash.Dash(__name__)\n",
    "app.title = (\"Dashboard | Sales Data\")\n",
    "server = app.server\n",
    "\n",
    "# App layout\n",
    "app.layout = html.Div([\n",
    "    \n",
    "    # Main Title\n",
    "    html.H2('Sales Dashboard with Dash', style={'textAlign': 'center', 'marginBottom':10, 'marginTop':10}),\n",
    "    \n",
    "    # 영역 나누기 - Left\n",
    "    html.Div([\n",
    "        \n",
    "        ### Pie by Channel, Gender, AgeGroup\n",
    "        html.Div(className='Pie',\n",
    "                 children=[\n",
    "                     html.Div(dcc.Graph(id='channel'), style={'float':'left', 'display':'inline-block', 'width':'33%'}),\n",
    "                     html.Div(dcc.Graph(id='gender'), style={'float':'left', 'display':'inline-block', 'width':'33%'}),\n",
    "                     html.Div(dcc.Graph(id='agegroup'), style={'float':'right', 'width':'33%'})\n",
    "                 ]),\n",
    "        \n",
    "        ### Indicater by Region, Bar by Country\n",
    "        html.Div(className='Indicator & Bar',\n",
    "                 children=[\n",
    "                     html.Div(dcc.Graph(id='idc_africa'), style={'float':'left', 'display':'inline-block', 'width':'12%'}),\n",
    "                     html.Div(dcc.Graph(id='idc_america'), style={'float':'left', 'display':'inline-block', 'width':'12%'}),\n",
    "                     html.Div(dcc.Graph(id='idc_asia'), style={'float':'left', 'display':'inline-block', 'width':'12%'}),\n",
    "                     html.Div(dcc.Graph(id='idc_europe'), style={'float':'left', 'display':'inline-block', 'width':'12%'}),\n",
    "                     html.Div(dcc.Graph(id='idc_oceania'), style={'float':'left', 'display':'inline-block', 'width':'12%'}),\n",
    "                     html.Div(dcc.Graph(id='country'), style={'float':'right', 'width':'40%'})\n",
    "                 ]),\n",
    "                \n",
    "        ### Line by YM, Radar by Category\n",
    "        html.Div(className='Line',\n",
    "                 children=[\n",
    "                     html.Div(dcc.Graph(id='line'), style={'float':'left', 'display':'inline-block', 'width':'60%'}),\n",
    "                     html.Div(dcc.Graph(id='radar'), style={'float':'right', 'width':'40%'})\n",
    "                 ])  \n",
    "        ], style={'float':'left', 'display':'inline-block', 'width':'65%'}),\n",
    "    \n",
    "    # 영역 나누기 - Right\n",
    "    html.Div([\n",
    "        html.Div(children=[\n",
    "                    html.Div(dcc.Dropdown(id = 'id_year',\n",
    "                                         options=[{'label':i, 'value':i} for i in years],\n",
    "                                         value = max(years),\n",
    "                                         style={'width':'50%'})),\n",
    "                    html.Div(dcc.Graph(id='map')),\n",
    "                    html.Div(dcc.Graph(id='sankey'))\n",
    "            ])\n",
    "    ], style={'float':'right', 'width':'35%'})\n",
    "])"
   ]
  },
  {
   "cell_type": "markdown",
   "metadata": {},
   "source": [
    "### Pie"
   ]
  },
  {
   "cell_type": "code",
   "execution_count": 7,
   "metadata": {},
   "outputs": [],
   "source": [
    "cols = DEFAULT_PLOTLY_COLORS\n",
    "\n",
    "########## Pie's \n",
    "@app.callback([Output('channel',  'figure'), \n",
    "               Output('gender', 'figure'), \n",
    "               Output('agegroup',    'figure')], \n",
    "              [Input('id_year', 'value')])\n",
    "\n",
    "def update_output(val):\n",
    "        \n",
    "    # loop value's\n",
    "    pies = ['Channel', 'Gender', 'AgeGroup']\n",
    "    \n",
    "    # data by channel, gender, agegroup\n",
    "    figures = []\n",
    "    \n",
    "    for i in range(len(pies)):\n",
    "        df_fig = df[df['year'] == val]\n",
    "        df_fig = df_fig.loc[:,[pies[i],'Revenue']].groupby(by = [pies[i]], as_index = False).sum()\n",
    "        \n",
    "        # hover text\n",
    "        df_fig['text'] = round(df_fig['Revenue']/1000000,1).astype(str) + 'M'\n",
    "        \n",
    "        \n",
    "        trace = go.Pie(labels = df_fig[pies[i]],\n",
    "                       values = df_fig['Revenue'],\n",
    "                       name = '',\n",
    "                       text = df_fig['text'],\n",
    "                       textinfo = 'label+percent',\n",
    "                       hovertemplate = \"[%{label}]<br> Revenue: %{text}<br> Rate: %{percent}\",\n",
    "                       hoverinfo='text',\n",
    "                       insidetextorientation = 'tangential',   # textinfo 타입 (tangential / auto / horizontal / radial)\n",
    "                       hole = 0.4, \n",
    "                       marker_colors = cols  # pie color\n",
    "                       )\n",
    "        data = [trace]\n",
    "        \n",
    "        layout = go.Layout(title=pies[i], title_x=0.5, title_xanchor='center', showlegend=False, \n",
    "                       height=250, margin=dict(l=50, r=50, b=10, t=50)\n",
    "                      )\n",
    "        \n",
    "        figure = go.Figure(data, layout)\n",
    "        figures.append(figure)\n",
    "\n",
    "    return figures[0], figures[1], figures[2]"
   ]
  },
  {
   "cell_type": "markdown",
   "metadata": {},
   "source": [
    "### Indicator"
   ]
  },
  {
   "cell_type": "code",
   "execution_count": 8,
   "metadata": {},
   "outputs": [],
   "source": [
    "########## by Region\n",
    "@app.callback([Output('idc_africa',  'figure'), \n",
    "               Output('idc_america', 'figure'), \n",
    "               Output('idc_asia',    'figure'), \n",
    "               Output('idc_europe',  'figure'), \n",
    "               Output('idc_oceania', 'figure')], \n",
    "              [Input('id_year', 'value')])\n",
    "\n",
    "def update_output(val):\n",
    "        \n",
    "    # reg - unique value's\n",
    "    reg = df['Region'].unique()\n",
    "    \n",
    "    # data by Region\n",
    "    figures = []\n",
    "    \n",
    "    for i in range(len(reg)):\n",
    "        df_fig = df[(df['year'] == val) & (df['Region'] == reg[i])]\n",
    "        df_fig = round(df_fig.loc[:,['Revenue','Margin']].sum(),1)\n",
    "        \n",
    "        values = df_fig['Revenue']\n",
    "        deltas = df_fig['Margin']\n",
    "        \n",
    "        trace = go.Indicator(mode = 'number+delta',\n",
    "                             value = values,\n",
    "                             number = dict(font_size = 35),   # font size fixed (안하면 반응형으로 크기 제각각)\n",
    "                             delta = dict(reference = values - deltas,\n",
    "                                          font_size = 20,\n",
    "                                          relative = False,\n",
    "                                          increasing_color = '#3078b4', increasing_symbol = '',\n",
    "                                          decreasing_color = '#d13b40', decreasing_symbol = '',\n",
    "                                          position = 'top'),\n",
    "                             title = dict(text = reg[i], font_size = 20)\n",
    "                            )\n",
    "        data = [trace]\n",
    "        \n",
    "        layout = go.Layout(height=310)\n",
    "        figure = go.Figure(data, layout)\n",
    "        figures.append(figure)\n",
    "\n",
    "    return figures[0], figures[1], figures[2], figures[3], figures[4]"
   ]
  },
  {
   "cell_type": "markdown",
   "metadata": {},
   "source": [
    "### Bar"
   ]
  },
  {
   "cell_type": "code",
   "execution_count": 9,
   "metadata": {},
   "outputs": [],
   "source": [
    "@app.callback(Output('country', 'figure'), [Input('id_year', 'value')])\n",
    "\n",
    "def update_output(val):\n",
    "    \n",
    "    # Sales by Country\n",
    "    df_con = df[df['year'] == val]\n",
    "    df_con = df_con.loc[:,['Country','Revenue']].groupby(by = ['Country'], as_index = False).sum()\n",
    "    df_con = df_con.sort_values(by = ['Revenue'], ascending=False)\n",
    "    \n",
    "    \n",
    "    # Rank & Top 10\n",
    "    df_con['rank'] = list(range(1, len(df_con['Country'])+1))\n",
    "    df_con = df_con[df_con['rank'] <= 10].reset_index(drop = True)\n",
    "    \n",
    "        \n",
    "    # hover_text\n",
    "    df_con['text'] = df_con['Country'] + ': ' + \\\n",
    "                     round(df_con['Revenue']/1000000,1).astype(str) + 'M'\n",
    "    \n",
    "    trace = go.Bar(x = df_con['Country'],\n",
    "                   y = df_con['Revenue'],\n",
    "                   text = df_con['text'],\n",
    "                   texttemplate = '%{text}', \n",
    "                   hoverinfo = 'text'\n",
    "                   )\n",
    "\n",
    "    data = [trace]\n",
    "    \n",
    "    layout = go.Layout(title = 'Country (Top 10)',\n",
    "                       # title_x=0,\n",
    "                       title_y=0.8,\n",
    "                       height=310\n",
    "                      )\n",
    "    \n",
    "    figure = {'data': data, 'layout': layout}\n",
    "\n",
    "    return figure"
   ]
  },
  {
   "cell_type": "markdown",
   "metadata": {},
   "source": [
    "### Line"
   ]
  },
  {
   "cell_type": "code",
   "execution_count": 10,
   "metadata": {},
   "outputs": [],
   "source": [
    "### by YearMonth\n",
    "@app.callback(Output('line', 'figure'), [Input('id_year', 'value')])\n",
    "\n",
    "def update_output(val):\n",
    "    \n",
    "    traces = []\n",
    "    for yr in years:\n",
    "        \n",
    "        df_line = df[df['year'] == yr]\n",
    "        df_line = df_line.loc[:,['Revenue','year','month']].groupby(by = ['year','month'], as_index = False).sum()\n",
    "        \n",
    "        # hover_text\n",
    "        df_line['text'] = round(df_line['Revenue']/1000000,1).astype(str) + 'M'\n",
    "        \n",
    "        traces.append(go.Scatter(x = df_line['month'],\n",
    "                                 y = df_line['Revenue'],\n",
    "                                 text = df_line['text'],\n",
    "                                 hovertemplate = '%{text}',\n",
    "                                 mode = 'lines+markers',\n",
    "                                 marker = dict(size = 10),\n",
    "                                 name = yr))\n",
    "    data = traces\n",
    "    \n",
    "    layout = go.Layout(title = 'Revenue Trend (Monthly)',\n",
    "                       # tick0 = 첫 번째 눈금의 배치 설정 (dtick과 함께 사용), dtick = 눈금 사이의 간격 설정\n",
    "                       xaxis = dict(title='Month', tickmode='linear', tick0=1, dtick=1, showgrid=False),\n",
    "                       legend = dict(orientation=\"h\",    # option= 'v', 'h'\n",
    "                                     xanchor=\"center\",   # option= 'auto', 'left', 'center', 'right'\n",
    "                                     x=0.5,              # x= 0(left), 1 (right)\n",
    "                                     yanchor=\"bottom\",   # option= 'auto', 'top', 'middle', 'bottom' \n",
    "                                     y=-1  #1.1,         # y= 1(top), -1(bottom)\n",
    "                                    ),\n",
    "                       height=320, margin=dict(l=50, r=10))\n",
    "    \n",
    "    figure = {'data': data, 'layout': layout}\n",
    "\n",
    "    return figure"
   ]
  },
  {
   "cell_type": "markdown",
   "metadata": {},
   "source": [
    "### Radar"
   ]
  },
  {
   "cell_type": "code",
   "execution_count": 11,
   "metadata": {},
   "outputs": [],
   "source": [
    "### by Year & Category\n",
    "@app.callback(Output('radar', 'figure'), [Input('id_year', 'value')])\n",
    "\n",
    "def update_output(val):\n",
    "    \n",
    "    df_rad = df.loc[:,['Category','Revenue','year']].groupby(by = ['year','Category'], as_index=False).sum()\n",
    "    \n",
    "    # Rank by 5 step Range\n",
    "    df_rad['Rank'] = 0\n",
    "    df_rad.loc[df_rad['Revenue']<10000000, 'Rank'] = 1\n",
    "    df_rad.loc[(df_rad['Revenue']>=10000000) & (df_rad['Revenue']<30000000), 'Rank'] = 2\n",
    "    df_rad.loc[(df_rad['Revenue']>=30000000) & (df_rad['Revenue']<50000000), 'Rank'] = 3\n",
    "    df_rad.loc[(df_rad['Revenue']>=50000000) & (df_rad['Revenue']<70000000), 'Rank'] = 4\n",
    "    df_rad.loc[(df_rad['Revenue']>=70000000), 'Rank'] = 5\n",
    "    \n",
    "    # range label - 순위별 범주 생성\n",
    "    rad_rg=pd.DataFrame([[0, '0'], [1, '< 10M'], [2, '10-30M'], [3, '30-50M'], [4, '50-70M'], [5, '70M <']])\n",
    "    rad_rg.columns = ['Rank', 'Range']\n",
    "    \n",
    "    # Join\n",
    "    df_radar = df_rad.merge(rad_rg, on = 'Rank', how = 'left')\n",
    "    \n",
    "    # Graph\n",
    "    traces = []\n",
    "    for yr in years:\n",
    "        dat = df_radar[df_radar['year'] == yr]   # 특정 연도 추출\n",
    "        ranks = list(dat['Rank'])                # 매출 순위 리스트\n",
    "        ranks.append(ranks[0])                   # 마지막 연결부 추가\n",
    "        thetas = list(dat['Category'])           # 상품 리스트\n",
    "        thetas.append(thetas[0])                 # 마지막 연결부 추가\n",
    "        rank_R = list(dat['Range'])              # 순위에 따른 범위정보\n",
    "        rank_R.append(rank_R[0])                 # 마지막 연결부 추가\n",
    "\n",
    "        traces.append(go.Scatterpolar(r = ranks,\n",
    "                                      theta = thetas,\n",
    "                                      name = yr, \n",
    "                                      text = rank_R,\n",
    "                                      hovertemplate = \"Revenue:%{text}\"))\n",
    "    \n",
    "    data = traces\n",
    "    layout = go.Layout(legend = dict(orientation=\"h\",    # option= 'v', 'h'\n",
    "                                     xanchor=\"center\",   # option= 'auto', 'left', 'center', 'right'\n",
    "                                     x=0.5,              # x= 0(left), 1 (right)\n",
    "                                     yanchor=\"bottom\",   # option= 'auto', 'top', 'middle', 'bottom' \n",
    "                                     y=-1                # y= 1(top), -1(bottom)\n",
    "                                    ),\n",
    "                       height = 320)    \n",
    "   \n",
    "    figure = {'data': data, 'layout': layout}\n",
    "\n",
    "    return figure"
   ]
  },
  {
   "cell_type": "markdown",
   "metadata": {},
   "source": [
    "### Map"
   ]
  },
  {
   "cell_type": "code",
   "execution_count": 12,
   "metadata": {},
   "outputs": [],
   "source": [
    "### Choropleth Map\n",
    "@app.callback(Output('map', 'figure'), [Input('id_year', 'value')])\n",
    "\n",
    "def update_output(val):\n",
    "    \n",
    "    # Code3 by Country\n",
    "    df_code = df.loc[:,['Country','Code3']].drop_duplicates()\n",
    "\n",
    "    # data\n",
    "    df_map = df[df['year'] == val]\n",
    "    df_map = df_map.loc[:,['Country','Revenue']].groupby(by = ['Country'], as_index = False).sum()\n",
    "    \n",
    "    # Join map & Code3\n",
    "    df_m = df_map.merge(df_code, on = 'Country', how = 'left')\n",
    "    \n",
    "    # hover_text\n",
    "    df_m['text'] = df_m['Country'] + ' - Total Revenue : ' + \\\n",
    "                   round(df_m['Revenue']/1000000,1).astype(str) + 'M'\n",
    "    \n",
    "    trace = go.Choropleth(\n",
    "                    locations = df_m['Code3'],\n",
    "                    z = df_m['Revenue'],\n",
    "                    text = df_m['text'],\n",
    "                    hoverinfo = 'text',          # 입력한 text만 활성화\n",
    "                    colorscale = 'Blues',        # color= Greens, Reds, Oranges, ...\n",
    "                    autocolorscale=False,\n",
    "                    reversescale=False,\n",
    "                    marker_line_color='darkgray',\n",
    "                    marker_line_width=0.5,\n",
    "                    \n",
    "                    # colorbar option = legend bar\n",
    "                    colorbar_title = 'Revenue ($)',\n",
    "                    colorbar_thickness=15,      # bar 너비 (default=30)\n",
    "                    colorbar_len=1,             # bar 길이 (default=1)\n",
    "                    colorbar_x=1.01,            # bar x 위치 (default=1.01, -2~3 사이값)\n",
    "                    colorbar_ticklen=10         # bar 눈금 선 길이 (default=5)\n",
    "                                )\n",
    "    \n",
    "    data = [trace]\n",
    "    layout = go.Layout(title = 'Sales Map',\n",
    "                       geo = dict(showframe=False,\n",
    "                                  showcoastlines=False,\n",
    "                                  projection_type = 'equirectangular'),\n",
    "                       height=420, margin=dict(l=50, r=50, b=20, t=50))\n",
    "    \n",
    "    figure = {'data': data, 'layout': layout}\n",
    "\n",
    "    return figure"
   ]
  },
  {
   "cell_type": "markdown",
   "metadata": {},
   "source": [
    "### Sankey"
   ]
  },
  {
   "cell_type": "code",
   "execution_count": 13,
   "metadata": {},
   "outputs": [],
   "source": [
    "### Sankey\n",
    "@app.callback(Output('sankey', 'figure'), [Input('id_year', 'value')])\n",
    "\n",
    "def update_output(val):\n",
    "    \n",
    "    # 2020년도 대륙 & 채널 & 상품별 매출 Flow 오름차순 정렬\n",
    "    df_san = df[df['year'] == val].iloc[:,[13,4,11,9]]\n",
    "    df_san = df_san.sort_values(by = ['Region','Channel','Category'])\n",
    "    \n",
    "    # label\n",
    "    l_reg = list(df_san['Region'].unique()) # 5개 (순서 = 0 1 2 3 4)\n",
    "    l_cha = list(df_san['Channel'].unique()) # 2개 (순서 = 5 6)\n",
    "    l_cat = list(df_san['Category'].unique()) # 5개 (순서 = 7 8 9 10 11)\n",
    "    labels = l_reg + l_cha + l_cat # 12개 (순서 = 0 ~ 11)\n",
    "    \n",
    "    # source\n",
    "    source1 = list(np.repeat(range(0, len(l_reg)), len(l_cha)))\n",
    "    source2 = list(np.repeat(range(len(l_cat), len(l_cat)+len(l_cha)), len(l_cat)))\n",
    "    sources = source1 + source2\n",
    "    \n",
    "    # target\n",
    "    target1 = list(range(len(l_cat), len(l_cat) + len(l_cha))) * len(l_cat)\n",
    "    target2 = list(range(len(l_cha) + len(l_cat), len(l_reg) + len(l_cha) + len(l_cat))) * len(l_cha)\n",
    "    targets = target1 + target2\n",
    "    \n",
    "    # value\n",
    "    value1 = df_san.groupby(by = ['Region','Channel'], as_index = False).sum()\n",
    "    value2 = df_san.groupby(by = ['Channel','Category'], as_index = False).sum()\n",
    "    values = list(value1['Revenue']) + list(value2['Revenue'])\n",
    "    \n",
    "    trace = go.Sankey(node = dict(label = labels,\n",
    "                              pad = 15,\n",
    "                              thickness = 20,\n",
    "                              line = dict(color = 'black', width = 0.5),\n",
    "                              color = '#3078b4'),\n",
    "                  link = dict(source = sources,\n",
    "                              target = targets,\n",
    "                              value = values,\n",
    "                              color = '#EAEAEA'))\n",
    "    \n",
    "    data = [trace]\n",
    "    layout = go.Layout(title = dict(text='Sales Flow', font_size=16),\n",
    "                       font_size = 15,\n",
    "                       height=420, margin=dict(l=50, r=50, b=20, t=50))\n",
    "    \n",
    "    figure = {'data': data, 'layout': layout}\n",
    "\n",
    "    return figure"
   ]
  },
  {
   "cell_type": "markdown",
   "metadata": {},
   "source": [
    "### App Launch"
   ]
  },
  {
   "cell_type": "code",
   "execution_count": null,
   "metadata": {
    "scrolled": false
   },
   "outputs": [
    {
     "name": "stdout",
     "output_type": "stream",
     "text": [
      "Dash is running on http://127.0.0.1:8050/\n",
      "\n",
      " * Serving Flask app '__main__' (lazy loading)\n",
      " * Environment: production\n",
      "   WARNING: This is a development server. Do not use it in a production deployment.\n",
      "   Use a production WSGI server instead.\n",
      " * Debug mode: off\n"
     ]
    },
    {
     "name": "stderr",
     "output_type": "stream",
     "text": [
      " * Running on http://127.0.0.1:8050/ (Press CTRL+C to quit)\n",
      "127.0.0.1 - - [07/Sep/2021 21:01:57] \"GET / HTTP/1.1\" 200 -\n",
      "127.0.0.1 - - [07/Sep/2021 21:01:57] \"GET /_dash-component-suites/dash/deps/polyfill@7.v2_0_0m1631015801.12.1.min.js HTTP/1.1\" 200 -\n",
      "127.0.0.1 - - [07/Sep/2021 21:01:57] \"GET /_dash-component-suites/dash/deps/react@16.v2_0_0m1631015801.14.0.min.js HTTP/1.1\" 200 -\n",
      "127.0.0.1 - - [07/Sep/2021 21:01:57] \"GET /_dash-component-suites/dash/deps/prop-types@15.v2_0_0m1631015801.7.2.min.js HTTP/1.1\" 200 -\n",
      "127.0.0.1 - - [07/Sep/2021 21:01:57] \"GET /_dash-component-suites/dash/deps/react-dom@16.v2_0_0m1631015801.14.0.min.js HTTP/1.1\" 200 -\n",
      "127.0.0.1 - - [07/Sep/2021 21:01:57] \"GET /_dash-component-suites/dash/dcc/dash_core_components.v2_0_0m1631015801.js HTTP/1.1\" 200 -\n",
      "127.0.0.1 - - [07/Sep/2021 21:01:57] \"GET /_dash-component-suites/dash/dash-renderer/build/dash_renderer.v2_0_0m1631015801.min.js HTTP/1.1\" 200 -\n",
      "127.0.0.1 - - [07/Sep/2021 21:01:57] \"GET /_dash-component-suites/dash/dcc/dash_core_components-shared.v2_0_0m1631015801.js HTTP/1.1\" 200 -\n",
      "127.0.0.1 - - [07/Sep/2021 21:01:57] \"GET /_dash-component-suites/dash/html/dash_html_components.v2_0_0m1631015801.min.js HTTP/1.1\" 200 -\n",
      "127.0.0.1 - - [07/Sep/2021 21:01:57] \"GET /_dash-component-suites/dash/dash_table/bundle.v5_0_0m1631015801.js HTTP/1.1\" 200 -\n",
      "127.0.0.1 - - [07/Sep/2021 21:01:57] \"GET /_dash-layout HTTP/1.1\" 200 -\n",
      "127.0.0.1 - - [07/Sep/2021 21:01:57] \"GET /_dash-dependencies HTTP/1.1\" 200 -\n",
      "127.0.0.1 - - [07/Sep/2021 21:01:57] \"GET /_favicon.ico?v=2.0.0 HTTP/1.1\" 200 -\n",
      "127.0.0.1 - - [07/Sep/2021 21:01:57] \"GET /_dash-component-suites/dash/dcc/async-graph.js HTTP/1.1\" 200 -\n",
      "127.0.0.1 - - [07/Sep/2021 21:01:57] \"GET /_dash-component-suites/dash/dcc/async-plotlyjs.js HTTP/1.1\" 200 -\n",
      "127.0.0.1 - - [07/Sep/2021 21:01:57] \"GET /_dash-component-suites/dash/dcc/async-dropdown.js HTTP/1.1\" 200 -\n",
      "127.0.0.1 - - [07/Sep/2021 21:01:58] \"POST /_dash-update-component HTTP/1.1\" 200 -\n",
      "127.0.0.1 - - [07/Sep/2021 21:01:58] \"POST /_dash-update-component HTTP/1.1\" 200 -\n",
      "127.0.0.1 - - [07/Sep/2021 21:01:58] \"POST /_dash-update-component HTTP/1.1\" 200 -\n",
      "127.0.0.1 - - [07/Sep/2021 21:01:58] \"POST /_dash-update-component HTTP/1.1\" 200 -\n",
      "127.0.0.1 - - [07/Sep/2021 21:01:58] \"POST /_dash-update-component HTTP/1.1\" 200 -\n",
      "127.0.0.1 - - [07/Sep/2021 21:01:58] \"POST /_dash-update-component HTTP/1.1\" 200 -\n",
      "127.0.0.1 - - [07/Sep/2021 21:01:58] \"POST /_dash-update-component HTTP/1.1\" 200 -\n"
     ]
    }
   ],
   "source": [
    "# Run App\n",
    "if __name__=='__main__':\n",
    "    app.run_server(debug=False)"
   ]
  },
  {
   "cell_type": "code",
   "execution_count": null,
   "metadata": {},
   "outputs": [],
   "source": []
  },
  {
   "cell_type": "code",
   "execution_count": null,
   "metadata": {},
   "outputs": [],
   "source": []
  },
  {
   "cell_type": "code",
   "execution_count": null,
   "metadata": {},
   "outputs": [],
   "source": []
  },
  {
   "cell_type": "code",
   "execution_count": null,
   "metadata": {},
   "outputs": [],
   "source": []
  }
 ],
 "metadata": {
  "kernelspec": {
   "display_name": "Python 3",
   "language": "python",
   "name": "python3"
  },
  "language_info": {
   "codemirror_mode": {
    "name": "ipython",
    "version": 3
   },
   "file_extension": ".py",
   "mimetype": "text/x-python",
   "name": "python",
   "nbconvert_exporter": "python",
   "pygments_lexer": "ipython3",
   "version": "3.7.4"
  }
 },
 "nbformat": 4,
 "nbformat_minor": 4
}
