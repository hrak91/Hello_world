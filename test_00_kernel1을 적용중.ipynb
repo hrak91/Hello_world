{
 "cells": [
  {
   "cell_type": "code",
   "execution_count": 2,
   "metadata": {},
   "outputs": [],
   "source": [
    "\n",
    "from geopandas.tools import sjoin\n",
    "\n",
    "\n",
    "import pandas as pd\n",
    "import numpy as np\n",
    "import matplotlib.pyplot as plt\n",
    "import folium\n",
    "import json\n",
    "\n",
    "import fiona\n",
    "import geopandas as gpd\n",
    "from shapely.geometry import Point, Polygon, LineString\n",
    "\n",
    "#import pydeck as pdk\n",
    "#import shapefile\n",
    "import os\n",
    "import re\n",
    "import matplotlib \n",
    "matplotlib.font_manager._rebuild()\n",
    "import seaborn as sns\n",
    "\n",
    "#import mapboxgl\n",
    "#from mapboxgl.viz import *\n",
    "#from mapboxgl.utils import create_color_stops\n",
    "\n",
    "from matplotlib import font_manager, rc\n",
    "import platform\n",
    "\n",
    "import requests; from urllib.parse import urlparse\n",
    "\n",
    "\n",
    "#샾은 현재 설치 하지 않은것들이다ㅠㅠ"
   ]
  },
  {
   "cell_type": "code",
   "execution_count": 3,
   "metadata": {},
   "outputs": [],
   "source": [
    "acc_cnt = gpd.read_file('3_100by100_xy요약결합.geojson')"
   ]
  },
  {
   "cell_type": "code",
   "execution_count": 12,
   "metadata": {},
   "outputs": [],
   "source": [
    "acc_cnt_pt = acc_cnt.copy()"
   ]
  },
  {
   "cell_type": "code",
   "execution_count": 13,
   "metadata": {},
   "outputs": [
    {
     "data": {
      "text/html": [
       "<div>\n",
       "<style scoped>\n",
       "    .dataframe tbody tr th:only-of-type {\n",
       "        vertical-align: middle;\n",
       "    }\n",
       "\n",
       "    .dataframe tbody tr th {\n",
       "        vertical-align: top;\n",
       "    }\n",
       "\n",
       "    .dataframe thead th {\n",
       "        text-align: right;\n",
       "    }\n",
       "</style>\n",
       "<table border=\"1\" class=\"dataframe\">\n",
       "  <thead>\n",
       "    <tr style=\"text-align: right;\">\n",
       "      <th></th>\n",
       "      <th>left</th>\n",
       "      <th>bottom</th>\n",
       "      <th>right</th>\n",
       "      <th>top</th>\n",
       "      <th>xcoord_max</th>\n",
       "      <th>ycoord_max</th>\n",
       "      <th>geometry</th>\n",
       "    </tr>\n",
       "  </thead>\n",
       "  <tbody>\n",
       "    <tr>\n",
       "      <th>0</th>\n",
       "      <td>322800.0</td>\n",
       "      <td>182000.0</td>\n",
       "      <td>322900.0</td>\n",
       "      <td>182100.0</td>\n",
       "      <td>322850.0</td>\n",
       "      <td>182050.0</td>\n",
       "      <td>MULTIPOLYGON (((322800.000 182000.000, 322800....</td>\n",
       "    </tr>\n",
       "    <tr>\n",
       "      <th>1</th>\n",
       "      <td>322800.0</td>\n",
       "      <td>182300.0</td>\n",
       "      <td>322900.0</td>\n",
       "      <td>182400.0</td>\n",
       "      <td>322850.0</td>\n",
       "      <td>182350.0</td>\n",
       "      <td>MULTIPOLYGON (((322800.000 182300.000, 322800....</td>\n",
       "    </tr>\n",
       "    <tr>\n",
       "      <th>2</th>\n",
       "      <td>322800.0</td>\n",
       "      <td>182400.0</td>\n",
       "      <td>322900.0</td>\n",
       "      <td>182500.0</td>\n",
       "      <td>322850.0</td>\n",
       "      <td>182450.0</td>\n",
       "      <td>MULTIPOLYGON (((322800.000 182400.000, 322800....</td>\n",
       "    </tr>\n",
       "    <tr>\n",
       "      <th>3</th>\n",
       "      <td>322900.0</td>\n",
       "      <td>181800.0</td>\n",
       "      <td>323000.0</td>\n",
       "      <td>181900.0</td>\n",
       "      <td>322950.0</td>\n",
       "      <td>181850.0</td>\n",
       "      <td>MULTIPOLYGON (((322900.000 181800.000, 322900....</td>\n",
       "    </tr>\n",
       "    <tr>\n",
       "      <th>4</th>\n",
       "      <td>322900.0</td>\n",
       "      <td>181900.0</td>\n",
       "      <td>323000.0</td>\n",
       "      <td>182000.0</td>\n",
       "      <td>322950.0</td>\n",
       "      <td>181950.0</td>\n",
       "      <td>MULTIPOLYGON (((322900.000 181900.000, 322900....</td>\n",
       "    </tr>\n",
       "  </tbody>\n",
       "</table>\n",
       "</div>"
      ],
      "text/plain": [
       "       left    bottom     right       top  xcoord_max  ycoord_max  \\\n",
       "0  322800.0  182000.0  322900.0  182100.0    322850.0    182050.0   \n",
       "1  322800.0  182300.0  322900.0  182400.0    322850.0    182350.0   \n",
       "2  322800.0  182400.0  322900.0  182500.0    322850.0    182450.0   \n",
       "3  322900.0  181800.0  323000.0  181900.0    322950.0    181850.0   \n",
       "4  322900.0  181900.0  323000.0  182000.0    322950.0    181950.0   \n",
       "\n",
       "                                            geometry  \n",
       "0  MULTIPOLYGON (((322800.000 182000.000, 322800....  \n",
       "1  MULTIPOLYGON (((322800.000 182300.000, 322800....  \n",
       "2  MULTIPOLYGON (((322800.000 182400.000, 322800....  \n",
       "3  MULTIPOLYGON (((322900.000 181800.000, 322900....  \n",
       "4  MULTIPOLYGON (((322900.000 181900.000, 322900....  "
      ]
     },
     "execution_count": 13,
     "metadata": {},
     "output_type": "execute_result"
    }
   ],
   "source": [
    "acc_cnt_pt.head()"
   ]
  },
  {
   "cell_type": "code",
   "execution_count": 24,
   "metadata": {},
   "outputs": [],
   "source": [
    "acc_cnt_pt['geometry_cen'] = acc_cnt_pt['geometry'].centroid  # centroid 공간함수로 중심좌표 반환 "
   ]
  },
  {
   "cell_type": "code",
   "execution_count": 25,
   "metadata": {},
   "outputs": [
    {
     "data": {
      "text/html": [
       "<div>\n",
       "<style scoped>\n",
       "    .dataframe tbody tr th:only-of-type {\n",
       "        vertical-align: middle;\n",
       "    }\n",
       "\n",
       "    .dataframe tbody tr th {\n",
       "        vertical-align: top;\n",
       "    }\n",
       "\n",
       "    .dataframe thead th {\n",
       "        text-align: right;\n",
       "    }\n",
       "</style>\n",
       "<table border=\"1\" class=\"dataframe\">\n",
       "  <thead>\n",
       "    <tr style=\"text-align: right;\">\n",
       "      <th></th>\n",
       "      <th>left</th>\n",
       "      <th>bottom</th>\n",
       "      <th>right</th>\n",
       "      <th>top</th>\n",
       "      <th>x</th>\n",
       "      <th>y</th>\n",
       "      <th>geometry</th>\n",
       "      <th>geometry_cen</th>\n",
       "    </tr>\n",
       "  </thead>\n",
       "  <tbody>\n",
       "    <tr>\n",
       "      <th>0</th>\n",
       "      <td>322800.0</td>\n",
       "      <td>182000.0</td>\n",
       "      <td>322900.0</td>\n",
       "      <td>182100.0</td>\n",
       "      <td>322850.0</td>\n",
       "      <td>182050.0</td>\n",
       "      <td>MULTIPOLYGON (((322800.000 182000.000, 322800....</td>\n",
       "      <td>POINT (322850.000 182050.000)</td>\n",
       "    </tr>\n",
       "    <tr>\n",
       "      <th>1</th>\n",
       "      <td>322800.0</td>\n",
       "      <td>182300.0</td>\n",
       "      <td>322900.0</td>\n",
       "      <td>182400.0</td>\n",
       "      <td>322850.0</td>\n",
       "      <td>182350.0</td>\n",
       "      <td>MULTIPOLYGON (((322800.000 182300.000, 322800....</td>\n",
       "      <td>POINT (322850.000 182350.000)</td>\n",
       "    </tr>\n",
       "    <tr>\n",
       "      <th>2</th>\n",
       "      <td>322800.0</td>\n",
       "      <td>182400.0</td>\n",
       "      <td>322900.0</td>\n",
       "      <td>182500.0</td>\n",
       "      <td>322850.0</td>\n",
       "      <td>182450.0</td>\n",
       "      <td>MULTIPOLYGON (((322800.000 182400.000, 322800....</td>\n",
       "      <td>POINT (322850.000 182450.000)</td>\n",
       "    </tr>\n",
       "    <tr>\n",
       "      <th>3</th>\n",
       "      <td>322900.0</td>\n",
       "      <td>181800.0</td>\n",
       "      <td>323000.0</td>\n",
       "      <td>181900.0</td>\n",
       "      <td>322950.0</td>\n",
       "      <td>181850.0</td>\n",
       "      <td>MULTIPOLYGON (((322900.000 181800.000, 322900....</td>\n",
       "      <td>POINT (322950.000 181850.000)</td>\n",
       "    </tr>\n",
       "    <tr>\n",
       "      <th>4</th>\n",
       "      <td>322900.0</td>\n",
       "      <td>181900.0</td>\n",
       "      <td>323000.0</td>\n",
       "      <td>182000.0</td>\n",
       "      <td>322950.0</td>\n",
       "      <td>181950.0</td>\n",
       "      <td>MULTIPOLYGON (((322900.000 181900.000, 322900....</td>\n",
       "      <td>POINT (322950.000 181950.000)</td>\n",
       "    </tr>\n",
       "    <tr>\n",
       "      <th>...</th>\n",
       "      <td>...</td>\n",
       "      <td>...</td>\n",
       "      <td>...</td>\n",
       "      <td>...</td>\n",
       "      <td>...</td>\n",
       "      <td>...</td>\n",
       "      <td>...</td>\n",
       "      <td>...</td>\n",
       "    </tr>\n",
       "    <tr>\n",
       "      <th>77467</th>\n",
       "      <td>368000.0</td>\n",
       "      <td>180800.0</td>\n",
       "      <td>368100.0</td>\n",
       "      <td>180900.0</td>\n",
       "      <td>368050.0</td>\n",
       "      <td>180850.0</td>\n",
       "      <td>MULTIPOLYGON (((368000.000 180800.000, 368000....</td>\n",
       "      <td>POINT (368050.000 180850.000)</td>\n",
       "    </tr>\n",
       "    <tr>\n",
       "      <th>77468</th>\n",
       "      <td>368000.0</td>\n",
       "      <td>180900.0</td>\n",
       "      <td>368100.0</td>\n",
       "      <td>181000.0</td>\n",
       "      <td>368050.0</td>\n",
       "      <td>180950.0</td>\n",
       "      <td>MULTIPOLYGON (((368000.000 180900.000, 368000....</td>\n",
       "      <td>POINT (368050.000 180950.000)</td>\n",
       "    </tr>\n",
       "    <tr>\n",
       "      <th>77469</th>\n",
       "      <td>368000.0</td>\n",
       "      <td>181000.0</td>\n",
       "      <td>368100.0</td>\n",
       "      <td>181100.0</td>\n",
       "      <td>368050.0</td>\n",
       "      <td>181050.0</td>\n",
       "      <td>MULTIPOLYGON (((368000.000 181000.000, 368000....</td>\n",
       "      <td>POINT (368050.000 181050.000)</td>\n",
       "    </tr>\n",
       "    <tr>\n",
       "      <th>77470</th>\n",
       "      <td>368000.0</td>\n",
       "      <td>181100.0</td>\n",
       "      <td>368100.0</td>\n",
       "      <td>181200.0</td>\n",
       "      <td>368050.0</td>\n",
       "      <td>181150.0</td>\n",
       "      <td>MULTIPOLYGON (((368000.000 181100.000, 368000....</td>\n",
       "      <td>POINT (368050.000 181150.000)</td>\n",
       "    </tr>\n",
       "    <tr>\n",
       "      <th>77471</th>\n",
       "      <td>368000.0</td>\n",
       "      <td>181200.0</td>\n",
       "      <td>368100.0</td>\n",
       "      <td>181300.0</td>\n",
       "      <td>368050.0</td>\n",
       "      <td>181250.0</td>\n",
       "      <td>MULTIPOLYGON (((368000.000 181200.000, 368000....</td>\n",
       "      <td>POINT (368050.000 181250.000)</td>\n",
       "    </tr>\n",
       "  </tbody>\n",
       "</table>\n",
       "<p>77472 rows × 8 columns</p>\n",
       "</div>"
      ],
      "text/plain": [
       "           left    bottom     right       top         x         y  \\\n",
       "0      322800.0  182000.0  322900.0  182100.0  322850.0  182050.0   \n",
       "1      322800.0  182300.0  322900.0  182400.0  322850.0  182350.0   \n",
       "2      322800.0  182400.0  322900.0  182500.0  322850.0  182450.0   \n",
       "3      322900.0  181800.0  323000.0  181900.0  322950.0  181850.0   \n",
       "4      322900.0  181900.0  323000.0  182000.0  322950.0  181950.0   \n",
       "...         ...       ...       ...       ...       ...       ...   \n",
       "77467  368000.0  180800.0  368100.0  180900.0  368050.0  180850.0   \n",
       "77468  368000.0  180900.0  368100.0  181000.0  368050.0  180950.0   \n",
       "77469  368000.0  181000.0  368100.0  181100.0  368050.0  181050.0   \n",
       "77470  368000.0  181100.0  368100.0  181200.0  368050.0  181150.0   \n",
       "77471  368000.0  181200.0  368100.0  181300.0  368050.0  181250.0   \n",
       "\n",
       "                                                geometry  \\\n",
       "0      MULTIPOLYGON (((322800.000 182000.000, 322800....   \n",
       "1      MULTIPOLYGON (((322800.000 182300.000, 322800....   \n",
       "2      MULTIPOLYGON (((322800.000 182400.000, 322800....   \n",
       "3      MULTIPOLYGON (((322900.000 181800.000, 322900....   \n",
       "4      MULTIPOLYGON (((322900.000 181900.000, 322900....   \n",
       "...                                                  ...   \n",
       "77467  MULTIPOLYGON (((368000.000 180800.000, 368000....   \n",
       "77468  MULTIPOLYGON (((368000.000 180900.000, 368000....   \n",
       "77469  MULTIPOLYGON (((368000.000 181000.000, 368000....   \n",
       "77470  MULTIPOLYGON (((368000.000 181100.000, 368000....   \n",
       "77471  MULTIPOLYGON (((368000.000 181200.000, 368000....   \n",
       "\n",
       "                        geometry_cen  \n",
       "0      POINT (322850.000 182050.000)  \n",
       "1      POINT (322850.000 182350.000)  \n",
       "2      POINT (322850.000 182450.000)  \n",
       "3      POINT (322950.000 181850.000)  \n",
       "4      POINT (322950.000 181950.000)  \n",
       "...                              ...  \n",
       "77467  POINT (368050.000 180850.000)  \n",
       "77468  POINT (368050.000 180950.000)  \n",
       "77469  POINT (368050.000 181050.000)  \n",
       "77470  POINT (368050.000 181150.000)  \n",
       "77471  POINT (368050.000 181250.000)  \n",
       "\n",
       "[77472 rows x 8 columns]"
      ]
     },
     "execution_count": 25,
     "metadata": {},
     "output_type": "execute_result"
    }
   ],
   "source": [
    "acc_cnt_pt  #어 똑같이 된것 같다!!!!!!!!!!!!!!!!!!!!!!!!!! 기본은 멀티폴리곤 맞는듯"
   ]
  },
  {
   "cell_type": "markdown",
   "metadata": {},
   "source": [
    "## 주요시설물(카카오 api) 수집"
   ]
  },
  {
   "cell_type": "markdown",
   "metadata": {},
   "source": [
    "> 카카오api를 활용하여 외부데이터를 수집한다 "
   ]
  },
  {
   "cell_type": "markdown",
   "metadata": {},
   "source": [
    "~1. 중심좌표 구하기~\n",
    "\n",
    "(나는 미리 구해놨으니 할 필요 없다만 대전자료는 지오메트리만 줬기때문에 여기서 구했나보다)\n",
    "\n",
    "(속도 생각하면 이것도 시도해볼만하것 같다 다만 goemetry가 폴리곤이냐 멀티폴리곤이냐 이것도 중요할꺼 같은데;;)"
   ]
  },
  {
   "cell_type": "markdown",
   "metadata": {},
   "source": [
    "~2. point값을 x,y 좌표계로 변환~"
   ]
  },
  {
   "cell_type": "code",
   "execution_count": 19,
   "metadata": {},
   "outputs": [
    {
     "data": {
      "text/html": [
       "<div>\n",
       "<style scoped>\n",
       "    .dataframe tbody tr th:only-of-type {\n",
       "        vertical-align: middle;\n",
       "    }\n",
       "\n",
       "    .dataframe tbody tr th {\n",
       "        vertical-align: top;\n",
       "    }\n",
       "\n",
       "    .dataframe thead th {\n",
       "        text-align: right;\n",
       "    }\n",
       "</style>\n",
       "<table border=\"1\" class=\"dataframe\">\n",
       "  <thead>\n",
       "    <tr style=\"text-align: right;\">\n",
       "      <th></th>\n",
       "      <th>left</th>\n",
       "      <th>bottom</th>\n",
       "      <th>right</th>\n",
       "      <th>top</th>\n",
       "      <th>x</th>\n",
       "      <th>y</th>\n",
       "      <th>geometry</th>\n",
       "    </tr>\n",
       "  </thead>\n",
       "  <tbody>\n",
       "    <tr>\n",
       "      <th>0</th>\n",
       "      <td>322800.0</td>\n",
       "      <td>182000.0</td>\n",
       "      <td>322900.0</td>\n",
       "      <td>182100.0</td>\n",
       "      <td>322850.0</td>\n",
       "      <td>182050.0</td>\n",
       "      <td>MULTIPOLYGON (((322800.000 182000.000, 322800....</td>\n",
       "    </tr>\n",
       "  </tbody>\n",
       "</table>\n",
       "</div>"
      ],
      "text/plain": [
       "       left    bottom     right       top         x         y  \\\n",
       "0  322800.0  182000.0  322900.0  182100.0  322850.0  182050.0   \n",
       "\n",
       "                                            geometry  \n",
       "0  MULTIPOLYGON (((322800.000 182000.000, 322800....  "
      ]
     },
     "execution_count": 19,
     "metadata": {},
     "output_type": "execute_result"
    }
   ],
   "source": [
    "#x,y로 좌표 이름바꾸기\n",
    "acc_cnt_pt.rename(columns={'xcoord_max':'x','ycoord_max':'y'},inplace=True)  #인덱스는 안해도 그대로 되돌려주나?\n",
    "acc_cnt_pt.head(1)"
   ]
  },
  {
   "cell_type": "markdown",
   "metadata": {},
   "source": [
    "3. 카카오톡 API 활용"
   ]
  },
  {
   "cell_type": "markdown",
   "metadata": {},
   "source": [
    "  - 좌표, 반경, 시설물의 keyword, 카테고리, 승인키를 입력하면 중심좌표에서 입력 반경 내에 있는 시설물의 수를 알 수 있도록 하는 함수 정의"
   ]
  },
  {
   "cell_type": "code",
   "execution_count": 20,
   "metadata": {},
   "outputs": [],
   "source": [
    "def point_to_num_cat(y,x,radius,keyword,category, key):\n",
    "    url = \"https://dapi.kakao.com/v2/local/search/keyword.json?&y=\" + y + \"&x=\" + x + \"&radius=\" + radius + \"&query=\" + keyword  +\"&category_group_code\" + category\n",
    "    result = requests.get(urlparse(url).geturl(),\n",
    "                      headers={\"Authorization\":key})\n",
    "    json_obj = result.json()\n",
    "    global val\n",
    "    val = json_obj['meta']['pageable_count']\n",
    "    return val\n",
    "\n",
    "\n",
    "# key list\n",
    "# \"KakaoAK 4032c69a78d03e95593e9b4d341588f5\"\n",
    "# \"KakaoAK 21c25d923a619a70cba3e38b7d594472\"   해당코드에 있는 남의것!!"
   ]
  },
  {
   "cell_type": "code",
   "execution_count": 22,
   "metadata": {},
   "outputs": [],
   "source": [
    "import time\n",
    "from tqdm import tqdm"
   ]
  },
  {
   "cell_type": "markdown",
   "metadata": {},
   "source": [
    "### 반경 50M 내 학교의수"
   ]
  },
  {
   "cell_type": "code",
   "execution_count": 29,
   "metadata": {},
   "outputs": [
    {
     "name": "stderr",
     "output_type": "stream",
     "text": [
      "100%|██████████████████████████████████████████████████████████████████████████| 77472/77472 [2:04:25<00:00, 10.38it/s]\n"
     ]
    }
   ],
   "source": [
    "ls_scl = []                                                \n",
    "for i in tqdm(range(0,len(acc_cnt_pt['x']))): \n",
    "    ls_scl.append(point_to_num_cat(str(acc_cnt_pt['y'][i]), str(acc_cnt_pt['x'][i]), '50', '학교','SC4',\n",
    "                                         \"KakaoAK 4032c69a78d03e95593e9b4d341588f5\"))"
   ]
  },
  {
   "cell_type": "code",
   "execution_count": 37,
   "metadata": {},
   "outputs": [
    {
     "data": {
      "text/plain": [
       "45    77472\n",
       "Name: school_cnt, dtype: int64"
      ]
     },
     "execution_count": 37,
     "metadata": {},
     "output_type": "execute_result"
    }
   ],
   "source": [
    "acc_cnt_pt['school_cnt'].value_counts()\n",
    "\n",
    "#개판이네;;"
   ]
  },
  {
   "cell_type": "code",
   "execution_count": null,
   "metadata": {},
   "outputs": [],
   "source": [
    "#5/23 기준으로 사용할 곳도 없음"
   ]
  },
  {
   "cell_type": "code",
   "execution_count": null,
   "metadata": {},
   "outputs": [],
   "source": []
  },
  {
   "cell_type": "code",
   "execution_count": null,
   "metadata": {},
   "outputs": [],
   "source": []
  }
 ],
 "metadata": {
  "kernelspec": {
   "display_name": "Python 3",
   "language": "python",
   "name": "python3"
  },
  "language_info": {
   "codemirror_mode": {
    "name": "ipython",
    "version": 3
   },
   "file_extension": ".py",
   "mimetype": "text/x-python",
   "name": "python",
   "nbconvert_exporter": "python",
   "pygments_lexer": "ipython3",
   "version": "3.7.4"
  }
 },
 "nbformat": 4,
 "nbformat_minor": 4
}
