{
 "cells": [
  {
   "cell_type": "code",
   "execution_count": 2,
   "metadata": {},
   "outputs": [],
   "source": [
    "from bs4 import BeautifulSoup\n",
    "from selenium import webdriver\n",
    "import time\n",
    "import pandas as pd    \n",
    "import os\n",
    "import math\n",
    "\n",
    "\n",
    "from datetime import datetime\n",
    "from datetime import timedelta"
   ]
  },
  {
   "cell_type": "code",
   "execution_count": 3,
   "metadata": {},
   "outputs": [],
   "source": [
    "def get_week_no():\n",
    "    target = datetime.today()\n",
    "    firstday = target.replace(day=1)\n",
    "    if firstday.weekday() == 6:\n",
    "        origin = firstday\n",
    "    elif firstday.weekday() < 3:\n",
    "        origin = firstday - timedelta(days=firstday.weekday() + 1)\n",
    "    else:\n",
    "        origin = firstday + timedelta(days=6-firstday.weekday())\n",
    "    return (target - origin).days // 7 + 1"
   ]
  },
  {
   "cell_type": "code",
   "execution_count": 4,
   "metadata": {},
   "outputs": [],
   "source": [
    "weeken_ = get_week_no()\n",
    "day_ = (datetime.today().isoweekday() % 7) +1"
   ]
  },
  {
   "cell_type": "code",
   "execution_count": 5,
   "metadata": {},
   "outputs": [],
   "source": [
    "tomorrow = datetime.today() + timedelta(days=1)\n",
    "day_ = (tomorrow.isoweekday() % 7) +1"
   ]
  },
  {
   "cell_type": "code",
   "execution_count": 8,
   "metadata": {},
   "outputs": [
    {
     "name": "stdout",
     "output_type": "stream",
     "text": [
      "ZEUS 장비 예약 확인하기 \n",
      "================================================================================\n",
      "2.파일을 저장할 폴더명만 쓰세요(기본경로:c:\\data\\):\n",
      "\n",
      "\n"
     ]
    }
   ],
   "source": [
    "print(\"ZEUS 장비 예약 확인하기 \")\n",
    "print(\"=\" *80)\n",
    "\n",
    "\n",
    "f_dir = input(\"2.파일을 저장할 폴더명만 쓰세요(기본경로:c:\\\\data\\\\):\")\n",
    "if f_dir == '' :\n",
    "    f_dir = \"c:\\\\data\\\\\"                            ##기본 경로\n",
    "print(\"\\n\")\n",
    "\n",
    "\n",
    "\n",
    "\n",
    "path_ = 'c:/data/chromedriver.exe'                  ###크롬드라이버 경로\n",
    "driver = webdriver.Chrome(path_)\n",
    "driver.implicitly_wait(3)\n",
    "\n",
    "\n",
    "## url\n",
    "URL_ = 'https://www.zeus.go.kr/cloud/resvEq/search?cloudId=201907241102'\n",
    "driver.get(URL_)\n",
    "time.sleep(5)\n",
    "\n",
    "\n",
    "#스크롤\n",
    "def scroll_down(driver):\n",
    "    driver.execute_script(\"window.scrollTo(0,200);\")  ###하드코딩상태입니다.\n",
    "    time.sleep(1)\n",
    "\n",
    "scroll_down(driver) \n",
    "\n",
    "\n",
    "#샘플 달력 클릭\n",
    "driver.find_element_by_xpath(\"\"\"//*[@id=\"container\"]/article/div[1]/div[5]/div[1]/button\"\"\").click( )\n",
    "driver.find_element_by_xpath(\"\"\"//*[@id=\"popup\"]/div/div[2]/div[1]/table/tbody/tr[{0}]/td[{1}]/a\"\"\".format(weeken_,day_)).click( )\n",
    "\n",
    "\n",
    "//*[@id=\"container\"]/article/div[1]/div[1]/div[1]/button\n",
    "\n",
    "\n",
    "\n",
    "time.sleep(2)\n",
    "\n",
    "driver.page_source\n",
    "soup = BeautifulSoup(driver.page_source, 'html.parser')\n",
    "aa = soup.find('div',class_ = 'right_box')\n"
   ]
  },
  {
   "cell_type": "code",
   "execution_count": 13,
   "metadata": {},
   "outputs": [
    {
     "name": "stdout",
     "output_type": "stream",
     "text": [
      "ZEUS 장비 예약 확인하기 \n",
      "================================================================================\n",
      "2.파일을 저장할 폴더명만 쓰세요(기본경로:c:\\data\\):\n",
      "\n",
      "\n",
      "4\n"
     ]
    }
   ],
   "source": [
    "#샘플 달력 클릭\n",
    "driver.find_element_by_xpath(\"\"\"//*[@id=\"container\"]/article/div[1]/div[5]/div[1]/button\"\"\").click( )\n",
    "driver.find_element_by_xpath(\"\"\"//*[@id=\"popup\"]/div/div[2]/div[1]/table/tbody/tr[{0}]/td[{1}]/a\"\"\".format(weeken_,day_)).click( )\n",
    "\n",
    "\n",
    "\n",
    "\n",
    "\n",
    "\n",
    "time.sleep(2)\n",
    "\n",
    "driver.page_source\n",
    "soup = BeautifulSoup(driver.page_source, 'html.parser')\n",
    "aa = soup.find('div',class_ = 'right_box')\n",
    "\n",
    "\n",
    "list1 = []\n",
    "for i in range(36):\n",
    "    try:\n",
    "        j = i*2 + 1\n",
    "        A = aa.select('strong')[i].string\n",
    "        B = aa.select('dt')[j].string\n",
    "        AB = [A,B]\n",
    "        list1.append(AB)\n",
    "    except:\n",
    "        print(i)\n",
    "        break\n",
    "        \n",
    "        \n",
    "\n",
    "        \n",
    "        \n",
    "#저장\n",
    "D = pd.DataFrame(list1)\n",
    "D.columns = [ '예약시간', '예약자']\n",
    "\n",
    "\n",
    "query_txt='ZEUS'\n",
    "Time_ = '{0}-{1}-{2}-{3}{4}'.format(datetime.today().year, str(datetime.today().month).zfill(2), str(datetime.today().day).zfill(2), str(datetime.today().hour).zfill(2), str(datetime.today().minute).zfill(2))\n",
    "\n",
    "\n",
    "\n",
    "fx_name=f_dir+Time_+'-'+query_txt+'.xls'\n",
    "D.to_excel(fx_name)"
   ]
  },
  {
   "cell_type": "code",
   "execution_count": null,
   "metadata": {},
   "outputs": [],
   "source": []
  }
 ],
 "metadata": {
  "kernelspec": {
   "display_name": "Python 3",
   "language": "python",
   "name": "python3"
  },
  "language_info": {
   "codemirror_mode": {
    "name": "ipython",
    "version": 3
   },
   "file_extension": ".py",
   "mimetype": "text/x-python",
   "name": "python",
   "nbconvert_exporter": "python",
   "pygments_lexer": "ipython3",
   "version": "3.7.4"
  }
 },
 "nbformat": 4,
 "nbformat_minor": 2
}
